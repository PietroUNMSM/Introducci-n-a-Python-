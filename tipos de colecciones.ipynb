{
 "cells": [
  {
   "cell_type": "markdown",
   "metadata": {},
   "source": [
    "\r\n",
    "TIPOS DE COLECCIONES"
   ]
  },
  {
   "cell_type": "code",
   "execution_count": 6,
   "metadata": {},
   "outputs": [
    {
     "name": "stdout",
     "output_type": "stream",
     "text": [
      "[20, True, 'FISI']\n",
      "12.5\n",
      "[1, 2]\n",
      "[12.5, [1, 2], 'F']\n",
      "2\n",
      "[20, True, 'Mate discreta']\n",
      "\n",
      "Los dias de la semana son los siguientes:\n",
      "Lunes\n",
      "Martes\n",
      "Miercoles\n",
      "Jueves\n",
      "Viernes\n",
      "Sábado\n",
      "Domingo\n"
     ]
    }
   ],
   "source": [
    "# Listas\r\n",
    "list1 = [20, True, \"FISI\"]\r\n",
    "list2 = [12.5, [1,2], \"F\"]\r\n",
    "print(list1)\r\n",
    "print(list2[0])\r\n",
    "print(list2[1])\r\n",
    "\r\n",
    "print(list2)\r\n",
    "\r\n",
    "list3 = list2[1]\r\n",
    "print(list3[1])\r\n",
    "list1[2] = \"Mate discreta\"\r\n",
    "print(list1)\r\n",
    "\r\n",
    "\r\n",
    "semana = ['Lunes', 'Martes', 'Miercoles', 'Jueves','Viernes',\r\n",
    "'Sábado', 'Domingo']\r\n",
    "\r\n",
    "print('\\nLos dias de la semana son los siguientes:')\r\n",
    "for dia in semana: #Recorrido de una lista mediante for\r\n",
    "    print(dia)\r\n"
   ]
  },
  {
   "cell_type": "code",
   "execution_count": 12,
   "metadata": {},
   "outputs": [
    {
     "name": "stdout",
     "output_type": "stream",
     "text": [
      "(22, True, 'Base 20')\n",
      "Base 20\n"
     ]
    }
   ],
   "source": [
    "#Tuplas\r\n",
    "tupla = (22, True, \"Base 20\")\r\n",
    "print(tupla)\r\n",
    "print(tupla[2])\r\n"
   ]
  }
 ],
 "metadata": {
  "kernelspec": {
   "display_name": "Python 3.9.2 64-bit",
   "metadata": {
    "interpreter": {
     "hash": "8da01e5a71448ea74f54d88afa8911010d1d12e23bc7e103d40d5def4a09152c"
    }
   },
   "name": "python3"
  },
  "language_info": {
   "codemirror_mode": {
    "name": "ipython",
    "version": 3
   },
   "file_extension": ".py",
   "mimetype": "text/x-python",
   "name": "python",
   "nbconvert_exporter": "python",
   "pygments_lexer": "ipython3",
   "version": "3.9.2"
  },
  "orig_nbformat": 2
 },
 "nbformat": 4,
 "nbformat_minor": 2
}