{
 "cells": [
  {
   "cell_type": "code",
   "execution_count": 11,
   "metadata": {},
   "outputs": [
    {
     "name": "stdout",
     "output_type": "stream",
     "text": [
      "15\n",
      "5\n",
      "150\n",
      "37\n"
     ]
    }
   ],
   "source": [
    "#Operadores de asignación\r\n",
    "\r\n",
    "f = 5 #Asignando el valor a una variable\r\n",
    "\r\n",
    "f += 10 #Sumar el valor a una variable\r\n",
    "print(f)\r\n",
    "\r\n",
    "f -= 10 #Restar el valor a una variable\r\n",
    "print(f)\r\n",
    "\r\n",
    "f *= 30\r\n",
    "print(f)\r\n",
    "\r\n",
    "#f /= 4\r\n",
    "#print(f)\r\n",
    "\r\n",
    "f //= 4 # Division entera\r\n",
    "print(f)\r\n"
   ]
  },
  {
   "cell_type": "code",
   "execution_count": 23,
   "metadata": {},
   "outputs": [
    {
     "name": "stdout",
     "output_type": "stream",
     "text": [
      "5\n",
      "-1\n",
      "20\n",
      "256\n",
      "2.6666666666666665\n",
      "1.25\n",
      "1.0\n",
      "2\n"
     ]
    }
   ],
   "source": [
    "#Operadores aritméticos\r\n",
    "print(3+2)  #Suma\r\n",
    "print(4-5)  #Resta\r\n",
    "print(2*10) #Multiplicación\r\n",
    "print(2**8) #Exponente\r\n",
    "print(8/3)  #División\r\n",
    "print(2.5/2)    \r\n",
    "print(2.5//2) #División entera\r\n",
    "print(8%3)  #Módulo o resto"
   ]
  },
  {
   "cell_type": "code",
   "execution_count": 21,
   "metadata": {},
   "outputs": [
    {
     "name": "stdout",
     "output_type": "stream",
     "text": [
      "3 es igual a 2?: False\n",
      "7 y 4 son distintos?: True\n",
      "8 es mayor que 7?: True\n",
      "89 es menor que 10?: False\n",
      "10 es mayor igual que 11?: False\n",
      "9 es menor igual que 15?: True\n"
     ]
    }
   ],
   "source": [
    "#Operadores relacionales\r\n",
    "print('3 es igual a 2?:', 3==2)\r\n",
    "#3==2\r\n",
    "\r\n",
    "print('7 y 4 son distintos?:', 7!=4)\r\n",
    "\r\n",
    "print('8 es mayor que 7?:', 8>7)\r\n",
    "\r\n",
    "print('89 es menor que 10?:', 89 < 10)\r\n",
    "\r\n",
    "print('10 es mayor igual que 11?:', 10>=11)\r\n",
    "\r\n",
    "print(\"9 es menor igual que 15?:\", 9<=15)"
   ]
  },
  {
   "cell_type": "code",
   "execution_count": 30,
   "metadata": {},
   "outputs": [
    {
     "name": "stdout",
     "output_type": "stream",
     "text": [
      "False\n",
      "True\n",
      "False\n"
     ]
    }
   ],
   "source": [
    "#Operadoes lógicos\r\n",
    "print(True and False) #Operador y\r\n",
    "print(True or False) #Operador or\r\n",
    "print(not True) #Operador negación"
   ]
  }
 ],
 "metadata": {
  "kernelspec": {
   "display_name": "Python 3.9.2 64-bit",
   "metadata": {
    "interpreter": {
     "hash": "8da01e5a71448ea74f54d88afa8911010d1d12e23bc7e103d40d5def4a09152c"
    }
   },
   "name": "python3"
  },
  "language_info": {
   "codemirror_mode": {
    "name": "ipython",
    "version": 3
   },
   "file_extension": ".py",
   "mimetype": "text/x-python",
   "name": "python",
   "nbconvert_exporter": "python",
   "pygments_lexer": "ipython3",
   "version": "3.9.2-final"
  },
  "orig_nbformat": 2
 },
 "nbformat": 4,
 "nbformat_minor": 2
}