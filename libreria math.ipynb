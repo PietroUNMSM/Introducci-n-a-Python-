{
 "cells": [
  {
   "cell_type": "markdown",
   "metadata": {},
   "source": [
    "LIBRERIA MATH"
   ]
  },
  {
   "cell_type": "code",
   "execution_count": 1,
   "metadata": {},
   "outputs": [],
   "source": [
    "#Importar libreria math\r\n",
    "import math"
   ]
  },
  {
   "cell_type": "code",
   "execution_count": 2,
   "metadata": {},
   "outputs": [
    {
     "name": "stdout",
     "output_type": "stream",
     "text": [
      "3.141592653589793\n",
      "2.718281828459045\n"
     ]
    }
   ],
   "source": [
    "#Constantes\r\n",
    "pi = math.pi\r\n",
    "print(pi)\r\n",
    "\r\n",
    "print(math.e)"
   ]
  },
  {
   "cell_type": "code",
   "execution_count": 3,
   "metadata": {},
   "outputs": [
    {
     "name": "stdout",
     "output_type": "stream",
     "text": [
      "0.15425144988758405\n",
      "0.8939966636005579\n",
      "85.94366926962348\n",
      "1.0471975511965976\n"
     ]
    }
   ],
   "source": [
    "#Funciones Trigonométricas\r\n",
    "print(math.cos(30))\r\n",
    "print(math.sin(90))\r\n",
    "print(math.degrees(1.5)) #Convierte 1.5 grados sexagesimales a radianes\r\n",
    "print(math.radians(60)) # Devuelve 60 radianes a grados sexagesimales\r\n"
   ]
  },
  {
   "cell_type": "code",
   "execution_count": 4,
   "metadata": {},
   "outputs": [
    {
     "name": "stdout",
     "output_type": "stream",
     "text": [
      "2.718281828459045\n",
      "20.085536923187668\n",
      "4.0\n",
      "2.0\n",
      "81\n",
      "12.0\n"
     ]
    }
   ],
   "source": [
    "#Funcioned potencia y logarítmicas\r\n",
    "euler = math.exp(1) # Devuelve e\r\n",
    "print(euler)\r\n",
    "\r\n",
    "print(math.exp(3)) # Devuelve e elevado a 3\r\n",
    "\r\n",
    "print(math.log2(16)) # Devuelve el logaritmo en base 2 de 4\r\n",
    "\r\n",
    "print(math.log10(100)) #Devuelve el logaritmo en base 10 de 100\r\n",
    "\r\n",
    "print(int(math.pow(3,4))) #Devuelce 3 elevado a la 4\r\n",
    "\r\n",
    "print(math.sqrt(144)) # Devuelve la raiz cuadrada de 144\r\n"
   ]
  },
  {
   "cell_type": "code",
   "execution_count": 5,
   "metadata": {},
   "outputs": [
    {
     "name": "stdout",
     "output_type": "stream",
     "text": [
      "6\n",
      "3\n",
      "3\n"
     ]
    }
   ],
   "source": [
    "#Funciones numéricas\r\n",
    "print(math.ceil(5.4)) #Redondea al mayor \r\n",
    "print(math.floor(3.3)) #Redondea al menor\r\n",
    "print(math.gcd(6,21)) #Devuelve el MCD"
   ]
  }
 ],
 "metadata": {
  "kernelspec": {
   "display_name": "Python 3.9.2 64-bit",
   "metadata": {
    "interpreter": {
     "hash": "8da01e5a71448ea74f54d88afa8911010d1d12e23bc7e103d40d5def4a09152c"
    }
   },
   "name": "python3"
  },
  "language_info": {
   "codemirror_mode": {
    "name": "ipython",
    "version": 3
   },
   "file_extension": ".py",
   "mimetype": "text/x-python",
   "name": "python",
   "nbconvert_exporter": "python",
   "pygments_lexer": "ipython3",
   "version": "3.9.2-final"
  },
  "orig_nbformat": 2
 },
 "nbformat": 4,
 "nbformat_minor": 2
}