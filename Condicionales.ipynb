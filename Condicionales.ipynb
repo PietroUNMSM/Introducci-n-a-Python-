{
 "cells": [
  {
   "cell_type": "markdown",
   "metadata": {},
   "source": [
    "CONDICIONALES"
   ]
  },
  {
   "cell_type": "code",
   "execution_count": 13,
   "metadata": {},
   "outputs": [
    {
     "name": "stdout",
     "output_type": "stream",
     "text": [
      "a es positivo\n"
     ]
    }
   ],
   "source": [
    "#CONDICIONES MULTIPLES\r\n",
    "a = 10 + 6\r\n",
    "if a < 0:\r\n",
    "    print('a es negativo')\r\n",
    "elif a > 0:\r\n",
    "    print('a es positivo')\r\n",
    "else:\r\n",
    "    print(\"El numero es cero\")"
   ]
  },
  {
   "cell_type": "code",
   "execution_count": 18,
   "metadata": {},
   "outputs": [
    {
     "name": "stdout",
     "output_type": "stream",
     "text": [
      "El punto ( -50 , 40 ) se encuentra en el \n",
      "Cuadrante II\n"
     ]
    }
   ],
   "source": [
    "#CONDICIONES ANIDADAS\r\n",
    "#Sea el punto (x,y)\r\n",
    "x = -50\r\n",
    "y = 40\r\n",
    "\r\n",
    "print(\"El punto (\",x,\",\",y,\") se encuentra en el \")\r\n",
    "if x >0:\r\n",
    "    if y > 0:\r\n",
    "        print(\"Cuadrante I\")\r\n",
    "    else:\r\n",
    "        print(\"Cuadrante IV\")\r\n",
    "else:\r\n",
    "    if y > 0:\r\n",
    "        print('Cuadrante II')\r\n",
    "    else:\r\n",
    "        print(\"Cuadrante III\")"
   ]
  }
 ],
 "metadata": {
  "kernelspec": {
   "display_name": "Python 3.9.2 64-bit",
   "metadata": {
    "interpreter": {
     "hash": "8da01e5a71448ea74f54d88afa8911010d1d12e23bc7e103d40d5def4a09152c"
    }
   },
   "name": "python3"
  },
  "language_info": {
   "codemirror_mode": {
    "name": "ipython",
    "version": 3
   },
   "file_extension": ".py",
   "mimetype": "text/x-python",
   "name": "python",
   "nbconvert_exporter": "python",
   "pygments_lexer": "ipython3",
   "version": "3.9.2"
  },
  "orig_nbformat": 2
 },
 "nbformat": 4,
 "nbformat_minor": 2
}